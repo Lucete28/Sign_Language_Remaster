{
 "cells": [
  {
   "cell_type": "code",
   "execution_count": 8,
   "metadata": {},
   "outputs": [
    {
     "name": "stdout",
     "output_type": "stream",
     "text": [
      "Num GPUs Available:  4\n",
      "1645 are ready\n",
      "13 개 그룹이 만들어질 예정입니다.\n"
     ]
    },
    {
     "name": "stderr",
     "output_type": "stream",
     "text": [
      "0it [00:00, ?it/s]"
     ]
    },
    {
     "name": "stdout",
     "output_type": "stream",
     "text": [
      "400\n"
     ]
    },
    {
     "name": "stderr",
     "output_type": "stream",
     "text": [
      "0it [00:52, ?it/s]\n"
     ]
    },
    {
     "ename": "OSError",
     "evalue": "[Errno 28] No space left on device",
     "output_type": "error",
     "traceback": [
      "\u001b[1;31m---------------------------------------------------------------------------\u001b[0m",
      "\u001b[1;31mOSError\u001b[0m                                   Traceback (most recent call last)",
      "Cell \u001b[1;32mIn[8], line 104\u001b[0m\n\u001b[0;32m    101\u001b[0m labels \u001b[38;5;241m=\u001b[39m np\u001b[38;5;241m.\u001b[39mconcatenate(labels, axis\u001b[38;5;241m=\u001b[39m\u001b[38;5;241m0\u001b[39m)\n\u001b[0;32m    102\u001b[0m y_data \u001b[38;5;241m=\u001b[39m to_categorical(labels, num_classes\u001b[38;5;241m=\u001b[39m\u001b[38;5;28mlen\u001b[39m(actions))\n\u001b[1;32m--> 104\u001b[0m \u001b[43mnp\u001b[49m\u001b[38;5;241;43m.\u001b[39;49m\u001b[43msavez_compressed\u001b[49m\u001b[43m(\u001b[49m\u001b[38;5;124;43mf\u001b[39;49m\u001b[38;5;124;43m'\u001b[39;49m\u001b[38;5;124;43mC:/Users/oem/Desktop/jhy/array/\u001b[39;49m\u001b[38;5;132;43;01m{\u001b[39;49;00m\u001b[43mstart_time\u001b[49m\u001b[38;5;132;43;01m}\u001b[39;49;00m\u001b[38;5;124;43m/\u001b[39;49m\u001b[38;5;132;43;01m{\u001b[39;49;00m\u001b[43mgroup_idx\u001b[49m\u001b[38;5;132;43;01m}\u001b[39;49;00m\u001b[38;5;124;43m_XData\u001b[39;49m\u001b[38;5;124;43m'\u001b[39;49m\u001b[43m,\u001b[49m\u001b[43mx_data\u001b[49m\u001b[43m)\u001b[49m\n\u001b[0;32m    105\u001b[0m np\u001b[38;5;241m.\u001b[39msavez_compressed(\u001b[38;5;124mf\u001b[39m\u001b[38;5;124m'\u001b[39m\u001b[38;5;124mC:/Users/oem/Desktop/jhy/array/\u001b[39m\u001b[38;5;132;01m{\u001b[39;00mstart_time\u001b[38;5;132;01m}\u001b[39;00m\u001b[38;5;124m/\u001b[39m\u001b[38;5;132;01m{\u001b[39;00mgroup_idx\u001b[38;5;132;01m}\u001b[39;00m\u001b[38;5;124m_YData\u001b[39m\u001b[38;5;124m'\u001b[39m,y_data)\n",
      "File \u001b[1;32mc:\\Users\\oem\\anaconda3\\lib\\site-packages\\numpy\\lib\\npyio.py:710\u001b[0m, in \u001b[0;36msavez_compressed\u001b[1;34m(file, *args, **kwds)\u001b[0m\n\u001b[0;32m    647\u001b[0m \u001b[38;5;129m@array_function_dispatch\u001b[39m(_savez_compressed_dispatcher)\n\u001b[0;32m    648\u001b[0m \u001b[38;5;28;01mdef\u001b[39;00m \u001b[38;5;21msavez_compressed\u001b[39m(file, \u001b[38;5;241m*\u001b[39margs, \u001b[38;5;241m*\u001b[39m\u001b[38;5;241m*\u001b[39mkwds):\n\u001b[0;32m    649\u001b[0m \u001b[38;5;250m    \u001b[39m\u001b[38;5;124;03m\"\"\"\u001b[39;00m\n\u001b[0;32m    650\u001b[0m \u001b[38;5;124;03m    Save several arrays into a single file in compressed ``.npz`` format.\u001b[39;00m\n\u001b[0;32m    651\u001b[0m \n\u001b[1;32m   (...)\u001b[0m\n\u001b[0;32m    708\u001b[0m \n\u001b[0;32m    709\u001b[0m \u001b[38;5;124;03m    \"\"\"\u001b[39;00m\n\u001b[1;32m--> 710\u001b[0m     \u001b[43m_savez\u001b[49m\u001b[43m(\u001b[49m\u001b[43mfile\u001b[49m\u001b[43m,\u001b[49m\u001b[43m \u001b[49m\u001b[43margs\u001b[49m\u001b[43m,\u001b[49m\u001b[43m \u001b[49m\u001b[43mkwds\u001b[49m\u001b[43m,\u001b[49m\u001b[43m \u001b[49m\u001b[38;5;28;43;01mTrue\u001b[39;49;00m\u001b[43m)\u001b[49m\n",
      "File \u001b[1;32mc:\\Users\\oem\\anaconda3\\lib\\site-packages\\numpy\\lib\\npyio.py:743\u001b[0m, in \u001b[0;36m_savez\u001b[1;34m(file, args, kwds, compress, allow_pickle, pickle_kwargs)\u001b[0m\n\u001b[0;32m    741\u001b[0m     \u001b[38;5;66;03m# always force zip64, gh-10776\u001b[39;00m\n\u001b[0;32m    742\u001b[0m     \u001b[38;5;28;01mwith\u001b[39;00m zipf\u001b[38;5;241m.\u001b[39mopen(fname, \u001b[38;5;124m'\u001b[39m\u001b[38;5;124mw\u001b[39m\u001b[38;5;124m'\u001b[39m, force_zip64\u001b[38;5;241m=\u001b[39m\u001b[38;5;28;01mTrue\u001b[39;00m) \u001b[38;5;28;01mas\u001b[39;00m fid:\n\u001b[1;32m--> 743\u001b[0m         \u001b[38;5;28;43mformat\u001b[39;49m\u001b[38;5;241;43m.\u001b[39;49m\u001b[43mwrite_array\u001b[49m\u001b[43m(\u001b[49m\u001b[43mfid\u001b[49m\u001b[43m,\u001b[49m\u001b[43m \u001b[49m\u001b[43mval\u001b[49m\u001b[43m,\u001b[49m\n\u001b[0;32m    744\u001b[0m \u001b[43m                           \u001b[49m\u001b[43mallow_pickle\u001b[49m\u001b[38;5;241;43m=\u001b[39;49m\u001b[43mallow_pickle\u001b[49m\u001b[43m,\u001b[49m\n\u001b[0;32m    745\u001b[0m \u001b[43m                           \u001b[49m\u001b[43mpickle_kwargs\u001b[49m\u001b[38;5;241;43m=\u001b[39;49m\u001b[43mpickle_kwargs\u001b[49m\u001b[43m)\u001b[49m\n\u001b[0;32m    747\u001b[0m zipf\u001b[38;5;241m.\u001b[39mclose()\n",
      "File \u001b[1;32mc:\\Users\\oem\\anaconda3\\lib\\site-packages\\numpy\\lib\\format.py:735\u001b[0m, in \u001b[0;36mwrite_array\u001b[1;34m(fp, array, version, allow_pickle, pickle_kwargs)\u001b[0m\n\u001b[0;32m    731\u001b[0m \u001b[38;5;28;01melse\u001b[39;00m:\n\u001b[0;32m    732\u001b[0m     \u001b[38;5;28;01mfor\u001b[39;00m chunk \u001b[38;5;129;01min\u001b[39;00m numpy\u001b[38;5;241m.\u001b[39mnditer(\n\u001b[0;32m    733\u001b[0m             array, flags\u001b[38;5;241m=\u001b[39m[\u001b[38;5;124m'\u001b[39m\u001b[38;5;124mexternal_loop\u001b[39m\u001b[38;5;124m'\u001b[39m, \u001b[38;5;124m'\u001b[39m\u001b[38;5;124mbuffered\u001b[39m\u001b[38;5;124m'\u001b[39m, \u001b[38;5;124m'\u001b[39m\u001b[38;5;124mzerosize_ok\u001b[39m\u001b[38;5;124m'\u001b[39m],\n\u001b[0;32m    734\u001b[0m             buffersize\u001b[38;5;241m=\u001b[39mbuffersize, order\u001b[38;5;241m=\u001b[39m\u001b[38;5;124m'\u001b[39m\u001b[38;5;124mC\u001b[39m\u001b[38;5;124m'\u001b[39m):\n\u001b[1;32m--> 735\u001b[0m         \u001b[43mfp\u001b[49m\u001b[38;5;241;43m.\u001b[39;49m\u001b[43mwrite\u001b[49m\u001b[43m(\u001b[49m\u001b[43mchunk\u001b[49m\u001b[38;5;241;43m.\u001b[39;49m\u001b[43mtobytes\u001b[49m\u001b[43m(\u001b[49m\u001b[38;5;124;43m'\u001b[39;49m\u001b[38;5;124;43mC\u001b[39;49m\u001b[38;5;124;43m'\u001b[39;49m\u001b[43m)\u001b[49m\u001b[43m)\u001b[49m\n",
      "File \u001b[1;32mc:\\Users\\oem\\anaconda3\\lib\\zipfile.py:1141\u001b[0m, in \u001b[0;36m_ZipWriteFile.write\u001b[1;34m(self, data)\u001b[0m\n\u001b[0;32m   1139\u001b[0m     data \u001b[38;5;241m=\u001b[39m \u001b[38;5;28mself\u001b[39m\u001b[38;5;241m.\u001b[39m_compressor\u001b[38;5;241m.\u001b[39mcompress(data)\n\u001b[0;32m   1140\u001b[0m     \u001b[38;5;28mself\u001b[39m\u001b[38;5;241m.\u001b[39m_compress_size \u001b[38;5;241m+\u001b[39m\u001b[38;5;241m=\u001b[39m \u001b[38;5;28mlen\u001b[39m(data)\n\u001b[1;32m-> 1141\u001b[0m \u001b[38;5;28;43mself\u001b[39;49m\u001b[38;5;241;43m.\u001b[39;49m\u001b[43m_fileobj\u001b[49m\u001b[38;5;241;43m.\u001b[39;49m\u001b[43mwrite\u001b[49m\u001b[43m(\u001b[49m\u001b[43mdata\u001b[49m\u001b[43m)\u001b[49m\n\u001b[0;32m   1142\u001b[0m \u001b[38;5;28;01mreturn\u001b[39;00m nbytes\n",
      "\u001b[1;31mOSError\u001b[0m: [Errno 28] No space left on device"
     ]
    }
   ],
   "source": [
    "### test\n",
    "import numpy as np\n",
    "import os\n",
    "import glob\n",
    "from tensorflow.python.client import device_lib\n",
    "import tensorflow as tf\n",
    "# print(device_lib.list_local_devices())\n",
    "print(\"Num GPUs Available: \", len(tf.config.list_physical_devices('GPU')))\n",
    "\n",
    "import numpy as np\n",
    "from tqdm import tqdm\n",
    "import os\n",
    "import glob  # glob 라이브러리 추가\n",
    "import pickle\n",
    "from tensorflow.keras.utils import to_categorical\n",
    "from datetime import datetime\n",
    "import random\n",
    "\n",
    "start_time = datetime.now().strftime(\"%Y-%m-%d_%H-%M-%S\")\n",
    "os.makedirs(f'C:/Users/oem/Desktop/jhy/array/{start_time}',exist_ok=True)\n",
    "\n",
    "# dataset 폴더 경로 설정\n",
    "# PATH = '/content/drive/MyDrive/LAB/Sign_Language_Remaster/code/lstm/dataset'\n",
    "PATH = r'C:/Users/oem/Desktop/jhy/dataset'\n",
    "\n",
    "# dataset 폴더 아래의 모든 폴더 목록을 얻기\n",
    "actions = []  # 변경된 부분\n",
    "label_mapping = {}  # 변경된 부분\n",
    "\n",
    "### 액션 리스트 확인\n",
    "for folder in os.listdir(PATH):\n",
    "    if os.path.isdir(os.path.join(PATH, folder)):\n",
    "        # 각 폴더에 있는 npy 파일들을 확인\n",
    "        npy_files = glob.glob(os.path.join(PATH, folder, 'seq_*.npy'))\n",
    "        # 특정 조건에 맞는 npy 파일이 존재하면 actions와 label_mapping에 추가\n",
    "        if npy_files:\n",
    "            actions.append(folder)\n",
    "            label_mapping[folder] = len(actions) - 1\n",
    "print(len(actions),'are ready')\n",
    "\n",
    "# 리스트를 파일로 저장\n",
    "with open(r'C:/Users/oem/Desktop/jhy/signlanguage/Sign_Language_Remaster/logs/act_list.pkl', 'wb') as f:\n",
    "    pickle.dump(actions, f)\n",
    "\n",
    "\n",
    "\n",
    "################################################################################################################################\n",
    "\n",
    "def create_groups(data_count, group_size, appearances_per_data):\n",
    "    # 데이터셋 초기화\n",
    "    datasets = list(range(0, data_count ))\n",
    "    random.shuffle(datasets)\n",
    "\n",
    "    # 각 데이터의 사용 횟수를 추적하는 딕셔너리\n",
    "    usage_count = {dataset: 0 for dataset in datasets}\n",
    "   \n",
    "    # 그룹을 저장할 리스트\n",
    "    groups = []\n",
    "   \n",
    "    # 현재 그룹\n",
    "    current_group = []\n",
    "   \n",
    "    # 데이터셋을 순환하면서 그룹 생성\n",
    "    for _ in range(appearances_per_data):\n",
    "        for dataset in datasets:\n",
    "            # 현재 그룹에 데이터 추가\n",
    "            current_group.append(dataset)\n",
    "            usage_count[dataset] += 1\n",
    "           \n",
    "            # 현재 그룹이 가득 찼거나 모든 데이터가 사용된 경우 그룹 저장 및 초기화\n",
    "            if len(current_group) == group_size or all(usage_count[dataset] == appearances_per_data for dataset in datasets):\n",
    "                groups.append(current_group)\n",
    "                current_group = []\n",
    "   \n",
    "    return groups\n",
    "\n",
    "# 4000개의 데이터셋으로 크기가 500인 그룹을 만들고, 각 데이터가 3번씩 포함되도록 그룹 생성\n",
    "groups = create_groups(len(actions), 400, 3)\n",
    "print(len(groups),'개 그룹이 만들어질 예정입니다.')\n",
    "for group_idx, group in tqdm(enumerate(groups)):\n",
    "    data = []\n",
    "    labels = []\n",
    "    print(len(group))\n",
    "    for act_idx in group:\n",
    "        # print(act_idx)\n",
    "        action = actions[act_idx]\n",
    "    \n",
    "################################################################################################################################\n",
    "        PATH2 = os.path.join(PATH, action) #/dataset/{action}\n",
    "        file_path = glob.glob(os.path.join(PATH2, f'seq_*.npy'))[0]\n",
    "        try:\n",
    "            loaded_data = np.load(file_path, allow_pickle=True).astype(np.float16)\n",
    "            data.append(loaded_data)\n",
    "\n",
    "            label = np.full((loaded_data.shape[0],), label_mapping[action])\n",
    "            labels.append(label)\n",
    "        except FileNotFoundError:\n",
    "            print(f\"File not found for action: {action}\")\n",
    "\n",
    "    x_data = np.concatenate(data, axis=0)\n",
    "    labels = np.concatenate(labels, axis=0)\n",
    "    y_data = to_categorical(labels, num_classes=len(actions))\n",
    "    \n",
    "    np.savez_compressed(f'C:/Users/oem/Desktop/jhy/array/{start_time}/{group_idx}_XData',x_data)\n",
    "    np.savez_compressed(f'C:/Users/oem/Desktop/jhy/array/{start_time}/{group_idx}_YData',y_data)"
   ]
  },
  {
   "cell_type": "code",
   "execution_count": 6,
   "metadata": {},
   "outputs": [
    {
     "name": "stdout",
     "output_type": "stream",
     "text": [
      "2024-02-23_20-32-27\n"
     ]
    }
   ],
   "source": [
    "from datetime import datetime\n",
    "\n",
    "print(datetime.now().strftime(\"%Y-%m-%d_%H-%M\"))"
   ]
  }
 ],
 "metadata": {
  "kernelspec": {
   "display_name": "Python 3",
   "language": "python",
   "name": "python3"
  },
  "language_info": {
   "codemirror_mode": {
    "name": "ipython",
    "version": 3
   },
   "file_extension": ".py",
   "mimetype": "text/x-python",
   "name": "python",
   "nbconvert_exporter": "python",
   "pygments_lexer": "ipython3",
   "version": "3.8.7"
  }
 },
 "nbformat": 4,
 "nbformat_minor": 2
}
