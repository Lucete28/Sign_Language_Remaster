{
 "cells": [
  {
   "cell_type": "code",
   "execution_count": 14,
   "metadata": {},
   "outputs": [
    {
     "name": "stdout",
     "output_type": "stream",
     "text": [
      "[[1, 2, 3, 4, 5], [11, 22, 33, 44, 55]]\n"
     ]
    }
   ],
   "source": [
    "import requests\n",
    "import numpy as np\n",
    "import json\n",
    "\n",
    "# 넘파이 배열 생성\n",
    "array = np.array([[1, 2, 3, 4, 5], [11, 22, 33, 44, 55]])\n",
    "\n",
    "# 배열을 리스트로 변환\n",
    "array_list = array.tolist()\n",
    "\n",
    "# 서버의 엔드포인트 URL\n",
    "url = 'http://203.250.133.192:8000/array'\n",
    "\n",
    "# JSON 형식으로 데이터를 변환하여 POST 요청 보내기\n",
    "response = requests.post(url, json={\"array\": array_list})\n",
    "\n",
    "# 서버 응답 출력\n",
    "print(response.json()['array'])\n"
   ]
  },
  {
   "cell_type": "code",
   "execution_count": 15,
   "metadata": {},
   "outputs": [
    {
     "data": {
      "text/plain": [
       "(1, 2)"
      ]
     },
     "execution_count": 15,
     "metadata": {},
     "output_type": "execute_result"
    }
   ],
   "source": [
    "from collections import Counter\n",
    "li = [1, 1, 3, 4, 5]\n",
    "c = Counter(li).most_common()\n",
    "c[0]"
   ]
  },
  {
   "cell_type": "code",
   "execution_count": 18,
   "metadata": {},
   "outputs": [],
   "source": [
    "li = [1,2,3,4,5]\n",
    "def 리스트_정리(li):\n",
    "    li.clear()  # 리스트의 모든 요소를 제거\n",
    "    # return li\n",
    "리스트_정리(li)\n"
   ]
  },
  {
   "cell_type": "code",
   "execution_count": 20,
   "metadata": {},
   "outputs": [],
   "source": [
    "if li:\n",
    "    print(1)"
   ]
  }
 ],
 "metadata": {
  "kernelspec": {
   "display_name": "base",
   "language": "python",
   "name": "python3"
  },
  "language_info": {
   "codemirror_mode": {
    "name": "ipython",
    "version": 3
   },
   "file_extension": ".py",
   "mimetype": "text/x-python",
   "name": "python",
   "nbconvert_exporter": "python",
   "pygments_lexer": "ipython3",
   "version": "3.10.13"
  }
 },
 "nbformat": 4,
 "nbformat_minor": 2
}
