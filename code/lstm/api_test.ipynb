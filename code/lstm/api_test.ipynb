{
 "cells": [
  {
   "cell_type": "code",
   "execution_count": 9,
   "metadata": {},
   "outputs": [
    {
     "name": "stdout",
     "output_type": "stream",
     "text": [
      "{\"status\":\"array received\",\"shape\":[2,5],\"array\":[[1,2,3,4,5],[11,22,33,44,55]]}\n"
     ]
    }
   ],
   "source": [
    "import requests\n",
    "import numpy as np\n",
    "import json\n",
    "\n",
    "# 넘파이 배열 생성\n",
    "array = np.array([[1, 2, 3, 4, 5], [11, 22, 33, 44, 55]])\n",
    "\n",
    "# 배열을 리스트로 변환\n",
    "array_list = array.tolist()\n",
    "\n",
    "# 서버의 엔드포인트 URL\n",
    "url = 'http://203.250.133.192:8000/array'\n",
    "\n",
    "# JSON 형식으로 데이터를 변환하여 POST 요청 보내기\n",
    "response = requests.post(url, json={\"array\": array_list})\n",
    "\n",
    "# 서버 응답 출력\n",
    "print(response.json)\n"
   ]
  }
 ],
 "metadata": {
  "kernelspec": {
   "display_name": "base",
   "language": "python",
   "name": "python3"
  },
  "language_info": {
   "name": "python",
   "version": "3.10.13"
  }
 },
 "nbformat": 4,
 "nbformat_minor": 2
}
