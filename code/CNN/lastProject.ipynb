{
 "cells": [
  {
   "attachments": {},
   "cell_type": "markdown",
   "metadata": {},
   "source": [
    "# 이미지에서 랜드마크 추출"
   ]
  },
  {
   "cell_type": "code",
   "execution_count": 5,
   "metadata": {},
   "outputs": [],
   "source": [
    "import cv2\n",
    "import pickle\n",
    "import numpy as np\n",
    "import json\n",
    "import os\n",
    "from glob import glob\n",
    "import torch\n",
    "from PIL import Image\n",
    "from torch import nn\n",
    "from torchvision import transforms\n",
    "import torchvision.datasets as dsets\n",
    "import torchvision.transforms as transforms\n",
    "from torch.utils.data import DataLoader\n",
    "from torch import optim\n",
    "from tqdm.auto import tqdm\n",
    "from IPython.display import clear_output\n",
    "from sklearn.model_selection import train_test_split\n",
    "import matplotlib.pyplot as plt\n",
    "from sys import getsizeof\n",
    "from pympler import asizeof\n",
    "import pandas as pd\n",
    "device = 'cuda' if torch.cuda.is_available() else 'cpu'\n"
   ]
  },
  {
   "cell_type": "code",
   "execution_count": 6,
   "metadata": {},
   "outputs": [],
   "source": [
    "PATH = 'C:/PlayData/sign_English'\n",
    "\n",
    "folder_list = os.listdir(PATH)"
   ]
  },
  {
   "cell_type": "code",
   "execution_count": 7,
   "metadata": {},
   "outputs": [
    {
     "data": {
      "text/plain": [
       "['d', 'e', 'h', 'l', 'o', 'r', 'w']"
      ]
     },
     "execution_count": 7,
     "metadata": {},
     "output_type": "execute_result"
    }
   ],
   "source": [
    "folder_list"
   ]
  },
  {
   "cell_type": "code",
   "execution_count": 8,
   "metadata": {},
   "outputs": [
    {
     "data": {
      "application/vnd.jupyter.widget-view+json": {
       "model_id": "481cc653c2ae42caa812bf9cd7fcb38e",
       "version_major": 2,
       "version_minor": 0
      },
      "text/plain": [
       "  0%|          | 0/7 [00:00<?, ?it/s]"
      ]
     },
     "metadata": {},
     "output_type": "display_data"
    }
   ],
   "source": [
    "img_list = []\n",
    "img_tuple_list = []\n",
    "folder_name = [0,1,2,3]\n",
    "count=0\n",
    "transform = transforms.Compose([\n",
    "    transforms.Resize((128,128))\n",
    "])\n",
    "for folder in tqdm(folder_list):\n",
    "    folder_path = glob(f'C:/PlayData/sign_English/{folder}/*.jpg')\n",
    "    \n",
    "    for i in range(len(folder_path)):\n",
    "        folder_path[i] = folder_path[i].replace('\\\\', '/')\n",
    "        image = Image.open(folder_path[i])\n",
    "        image = transform(image)\n",
    "        # 이미지를 흑백으로 변환\n",
    "        image = image.convert('L')\n",
    "        # 이미지 데이터 디코딩\n",
    "        image_data = np.array(image)   \n",
    "        # 이미지 데이터 정규화\n",
    "        image_data = image_data.astype(\"float32\") / 255.0 \n",
    "        # NumPy 배열을 PyTorch 텐서로 변환\n",
    "        image_tensor = transforms.ToTensor()(image_data)\n",
    "        img_tuple_list.append((image_tensor,count))\n",
    "    count +=1\n",
    "\n"
   ]
  },
  {
   "cell_type": "code",
   "execution_count": 13,
   "metadata": {},
   "outputs": [
    {
     "name": "stdout",
     "output_type": "stream",
     "text": [
      "torch.Size([1, 128, 128])\n"
     ]
    },
    {
     "data": {
      "text/plain": [
       "<matplotlib.image.AxesImage at 0x25ac4a15130>"
      ]
     },
     "execution_count": 13,
     "metadata": {},
     "output_type": "execute_result"
    },
    {
     "data": {
      "image/png": "[encoded data removed]",
      "text/plain": [
       "<Figure size 640x480 with 1 Axes>"
      ]
     },
     "metadata": {},
     "output_type": "display_data"
    }
   ],
   "source": [
    "a = img_tuple_list[1][0]\n",
    "print(a.shape)\n",
    "import numpy as np\n",
    "a = np.squeeze(a)  # remove the first dimension with length 1\n",
    "plt.imshow(a)\n"
   ]
  },
  {
   "cell_type": "code",
   "execution_count": 14,
   "metadata": {},
   "outputs": [],
   "source": [
    "X, y = zip(*img_tuple_list)\n",
    "X_train, X_test, y_train, y_test = train_test_split(X, y, test_size=0.2, stratify=y, random_state=42)\n",
    "train_data = [(x, y) for x, y in zip(X_train, y_train)]\n",
    "test_data = [(x, y) for x, y in zip(X_test, y_test)]"
   ]
  },
  {
   "cell_type": "code",
   "execution_count": 15,
   "metadata": {},
   "outputs": [],
   "source": [
    "# hyper parameter\n",
    "BATCH_SIZE = 30\n",
    "EPOCHS = 5\n",
    "LEARNING_RATE = 1e-3\n"
   ]
  },
  {
   "cell_type": "code",
   "execution_count": 17,
   "metadata": {},
   "outputs": [],
   "source": [
    "train_loader = DataLoader(train_data,batch_size=BATCH_SIZE)\n",
    "test_loader = DataLoader(test_data,batch_size=BATCH_SIZE)"
   ]
  },
  {
   "cell_type": "code",
   "execution_count": 18,
   "metadata": {},
   "outputs": [],
   "source": [
    "# model 생성\n",
    "# Convolution, Maxpooling, flatten\n",
    "class CNN(nn.Module):\n",
    "  def __init__(self):\n",
    "    super().__init__()\n",
    "    \n",
    "    self.layer1 = nn.Sequential(\n",
    "        nn.Conv2d(1, 16, kernel_size=3, padding=1),\n",
    "        nn.ReLU(),\n",
    "        nn.MaxPool2d(2),\n",
    "        nn.Dropout(0.2)\n",
    "    )    \n",
    "    self.layer2 = nn.Sequential(\n",
    "        nn.Conv2d(16, 32, kernel_size=3, padding=1),\n",
    "        nn.ReLU(),\n",
    "        nn.MaxPool2d(2),\n",
    "        nn.Dropout(0.2)\n",
    "\n",
    "    )\n",
    "    self.softmax = nn.Softmax()\n",
    "    self.fc = nn.Linear(32*32*32,7)\n",
    "  def forward(self, x):\n",
    "    x = self.layer1(x)\n",
    "    x = self.layer2(x)\n",
    "    x = x.view(x.size(0),-1)\n",
    "    x = self.fc(x)\n",
    "    x = self.softmax(x)\n",
    "    return x\n",
    "\n"
   ]
  },
  {
   "cell_type": "code",
   "execution_count": 19,
   "metadata": {},
   "outputs": [
    {
     "data": {
      "text/plain": [
       "CNN(\n",
       "  (layer1): Sequential(\n",
       "    (0): Conv2d(1, 16, kernel_size=(3, 3), stride=(1, 1), padding=(1, 1))\n",
       "    (1): ReLU()\n",
       "    (2): MaxPool2d(kernel_size=2, stride=2, padding=0, dilation=1, ceil_mode=False)\n",
       "    (3): Dropout(p=0.2, inplace=False)\n",
       "  )\n",
       "  (layer2): Sequential(\n",
       "    (0): Conv2d(16, 32, kernel_size=(3, 3), stride=(1, 1), padding=(1, 1))\n",
       "    (1): ReLU()\n",
       "    (2): MaxPool2d(kernel_size=2, stride=2, padding=0, dilation=1, ceil_mode=False)\n",
       "    (3): Dropout(p=0.2, inplace=False)\n",
       "  )\n",
       "  (softmax): Softmax(dim=None)\n",
       "  (fc): Linear(in_features=32768, out_features=7, bias=True)\n",
       ")"
      ]
     },
     "execution_count": 19,
     "metadata": {},
     "output_type": "execute_result"
    }
   ],
   "source": [
    "model = CNN()\n",
    "model.to(device)"
   ]
  },
  {
   "cell_type": "code",
   "execution_count": 20,
   "metadata": {},
   "outputs": [
    {
     "data": {
      "text/plain": [
       "14672"
      ]
     },
     "execution_count": 20,
     "metadata": {},
     "output_type": "execute_result"
    }
   ],
   "source": [
    "getsizeof(train_data)"
   ]
  },
  {
   "cell_type": "code",
   "execution_count": 21,
   "metadata": {},
   "outputs": [],
   "source": [
    "criterion = nn.CrossEntropyLoss()\n",
    "optimizer = optim.Adam(model.parameters(), lr=LEARNING_RATE)"
   ]
  },
  {
   "cell_type": "code",
   "execution_count": 22,
   "metadata": {},
   "outputs": [
    {
     "name": "stdout",
     "output_type": "stream",
     "text": [
      "4번째 train_loss : 1.54 test_loss : 1.6 Accuracy : 98.07%\n"
     ]
    },
    {
     "data": {
      "image/png": "[encoded data removed]",
      "text/plain": [
       "<Figure size 640x480 with 1 Axes>"
      ]
     },
     "metadata": {},
     "output_type": "display_data"
    },
    {
     "name": "stdout",
     "output_type": "stream",
     "text": [
      "torch.Size([193])\n"
     ]
    },
    {
     "data": {
      "image/png": "[encoded data removed]",
      "text/plain": [
       "<Figure size 640x480 with 4 Axes>"
      ]
     },
     "metadata": {},
     "output_type": "display_data"
    }
   ],
   "source": [
    "total_acc = []\n",
    "for epoch in range(EPOCHS):\n",
    "  # 학습\n",
    "  train_loss=[]\n",
    "  for img, label in tqdm(train_loader):\n",
    "    img = img.to(device)\n",
    "    label = label.to(device)\n",
    "    \n",
    "    optimizer.zero_grad()\n",
    "    pred = model(img)\n",
    "    loss = criterion(pred, label)\n",
    "    loss.backward()\n",
    "    optimizer.step()\n",
    "    train_loss.append(loss.item())\n",
    "  # 평가\n",
    "  test_loss=[]\n",
    "  test_sources = []\n",
    "  with torch.no_grad():\n",
    "    for img, label in test_loader:\n",
    "      pred = model(img)\n",
    "      loss = criterion(pred, label)\n",
    "      # pred = model(img)\n",
    "      # loss = criterion(pred, label)\n",
    "      test_loss.append(loss.item())\n",
    "      test_sources.append((img[pred.cpu().argmax(axis=1)!=label.cpu()],\n",
    "                           label[pred.cpu().argmax(axis=1)!=label.cpu()],pred.cpu().argmax(axis=1)[pred.cpu().argmax(axis=1)!=label.cpu()])) # label과 pred 값이 다른 부분만 test_sources에 담기\n",
    "  # 노트북 파일 기존 프린트 되었던 화면을 지우는 코드\n",
    "  clear_output()\n",
    "\n",
    "  # 인식 잘 안된 부분의 시각화를 위해서 img, label, pred를 모아서 정리\n",
    "  imgs = [x[0] for x in test_sources]\n",
    "  imgs = torch.cat(imgs, axis=0)\n",
    "  labels = [x[1] for x in test_sources]\n",
    "  labels = torch.cat(labels, axis=0)\n",
    "  preds = [x[2] for x in test_sources]\n",
    "  preds = torch.cat(preds, axis=0)\n",
    "\n",
    "  # 정확도 계산을 위한 코드. 다양하게 다른 방법도 가능함\n",
    "  # sklearn의 metric 이용하는 방법 추천\n",
    "  wrongs = [len(x[0]) for x in test_sources]\n",
    "  acc = round(100-(sum(wrongs)/100),2)\n",
    "\n",
    "  # 정확도 추이를 보기 위하여 각 에폭에서의 정확도 정보 수집\n",
    "  total_acc.append(acc)\n",
    "\n",
    "  # 학습 진행 상황 출력\n",
    "  print(\"{}번째 train_loss : {} test_loss : {} Accuracy : {}%\".format(epoch, round(np.array(train_loss).mean(),2),round(np.array(test_loss).mean(),2),\n",
    "                                                                   acc))\n",
    "  if img.shape[0]<1:continue # 혹시 더이상 오분류 내용이 없으면 지나가도록 세팅\n",
    "\n",
    "  # 정확도 그래프 그리기\n",
    "  plt.plot(total_acc)\n",
    "  plt.show()\n",
    "\n",
    "  # 오분류 내용이 어떤건지 알기 위해 오분류 내용 4개 뽑아서 label과 pred 글자 넣어서 표시\n",
    "  for i in range(4):\n",
    "    plt.subplot(1,4,i+1)    \n",
    "    plt.imshow(np.squeeze(imgs[i][0]), cmap='gray')    \n",
    "    plt.title(\"{} vs {}\".format(labels[i].item(),preds[i].item()))\n",
    "    plt.axis('off')\n",
    "  print(labels.shape)\n",
    "  plt.show()"
   ]
  },
  {
   "cell_type": "code",
   "execution_count": 19,
   "metadata": {},
   "outputs": [
    {
     "data": {
      "text/plain": [
       "CNN(\n",
       "  (layer1): Sequential(\n",
       "    (0): Conv2d(1, 16, kernel_size=(3, 3), stride=(1, 1), padding=(1, 1))\n",
       "    (1): ReLU()\n",
       "    (2): MaxPool2d(kernel_size=2, stride=2, padding=0, dilation=1, ceil_mode=False)\n",
       "    (3): Dropout(p=0.2, inplace=False)\n",
       "  )\n",
       "  (layer2): Sequential(\n",
       "    (0): Conv2d(16, 32, kernel_size=(3, 3), stride=(1, 1), padding=(1, 1))\n",
       "    (1): ReLU()\n",
       "    (2): MaxPool2d(kernel_size=2, stride=2, padding=0, dilation=1, ceil_mode=False)\n",
       "    (3): Dropout(p=0.2, inplace=False)\n",
       "  )\n",
       "  (softmax): Softmax(dim=None)\n",
       "  (fc): Linear(in_features=32768, out_features=7, bias=True)\n",
       ")"
      ]
     },
     "execution_count": 19,
     "metadata": {},
     "output_type": "execute_result"
    }
   ],
   "source": [
    "model"
   ]
  },
  {
   "cell_type": "code",
   "execution_count": 23,
   "metadata": {},
   "outputs": [],
   "source": [
    "# 모델 피클로 저장\n",
    "pickle_file_path = \"sign_ver1-pkl.pkl\"\n",
    "with open(pickle_file_path, \"wb\") as f:\n",
    "    pickle.dump(model, f)"
   ]
  },
  {
   "cell_type": "code",
   "execution_count": 24,
   "metadata": {},
   "outputs": [
    {
     "data": {
      "text/plain": [
       "CNN(\n",
       "  (layer1): Sequential(\n",
       "    (0): Conv2d(1, 16, kernel_size=(3, 3), stride=(1, 1), padding=(1, 1))\n",
       "    (1): ReLU()\n",
       "    (2): MaxPool2d(kernel_size=2, stride=2, padding=0, dilation=1, ceil_mode=False)\n",
       "    (3): Dropout(p=0.2, inplace=False)\n",
       "  )\n",
       "  (layer2): Sequential(\n",
       "    (0): Conv2d(16, 32, kernel_size=(3, 3), stride=(1, 1), padding=(1, 1))\n",
       "    (1): ReLU()\n",
       "    (2): MaxPool2d(kernel_size=2, stride=2, padding=0, dilation=1, ceil_mode=False)\n",
       "    (3): Dropout(p=0.2, inplace=False)\n",
       "  )\n",
       "  (softmax): Softmax(dim=None)\n",
       "  (fc): Linear(in_features=32768, out_features=7, bias=True)\n",
       ")"
      ]
     },
     "execution_count": 24,
     "metadata": {},
     "output_type": "execute_result"
    }
   ],
   "source": [
    "# 저장된 피클 파일을 불러옴\n",
    "with open(pickle_file_path, \"rb\") as f:\n",
    "    model = pickle.load(f)\n",
    "\n",
    "model.eval()"
   ]
  },
  {
   "cell_type": "code",
   "execution_count": 33,
   "metadata": {},
   "outputs": [
    {
     "data": {
      "text/plain": [
       "37"
      ]
     },
     "execution_count": 33,
     "metadata": {},
     "output_type": "execute_result"
    }
   ],
   "source": [
    "pred.argmax().item()"
   ]
  },
  {
   "cell_type": "code",
   "execution_count": 25,
   "metadata": {},
   "outputs": [
    {
     "name": "stderr",
     "output_type": "stream",
     "text": [
      "C:\\Users\\2580j\\AppData\\Local\\Temp\\ipykernel_24788\\4019014158.py:27: UserWarning: Implicit dimension choice for softmax has been deprecated. Change the call to include dim=X as an argument.\n",
      "  x = self.softmax(x)\n"
     ]
    }
   ],
   "source": [
    "# 손 랜드마크 저장하는 코드\n",
    "import cv2\n",
    "import mediapipe as mp\n",
    "import numpy as np\n",
    "num = 0 # 시작하기전에 사진 번호 맞춰주기\n",
    "cap = cv2.VideoCapture(0)\n",
    "mp_drawing = mp.solutions.drawing_utils\n",
    "mp_hands = mp.solutions.hands\n",
    "landmark_lists = []\n",
    "text_list = []\n",
    "text_list_2=[]\n",
    "with mp_hands.Hands(\n",
    "    min_detection_confidence=0.5,\n",
    "    min_tracking_confidence=0.5) as hands:\n",
    "    while cap.isOpened():\n",
    "        ret, frame = cap.read()\n",
    "        success, image = cap.read()\n",
    "        frame = cv2.flip(frame, 1)\n",
    "        \n",
    "        if not success:\n",
    "            print(\"Ignoring empty camera frame.\")\n",
    "            continue\n",
    "\n",
    "        image = cv2.cvtColor(cv2.flip(image, 1), cv2.COLOR_BGR2RGB)\n",
    "        image.flags.writeable = True\n",
    "        results = hands.process(image)\n",
    "        image = cv2.cvtColor(image, cv2.COLOR_RGB2BGR)\n",
    "        if results.multi_hand_landmarks:\n",
    "            for hand_landmarks in results.multi_hand_landmarks:\n",
    "                mp_drawing.draw_landmarks(\n",
    "                    image, hand_landmarks, mp_hands.HAND_CONNECTIONS)\n",
    "\n",
    "                # 손의 랜드마크만 추출\n",
    "                global landmark_list\n",
    "                landmark_list = []\n",
    "                for landmark in hand_landmarks.landmark:\n",
    "                    landmark_x = min(int(landmark.x * image.shape[1]), image.shape[1]-1)\n",
    "                    landmark_y = min(int(landmark.y * image.shape[0]), image.shape[0]-1)\n",
    "                    landmark_list.append([landmark_x, landmark_y])\n",
    "                landmark_array = np.array(landmark_list)\n",
    "                \n",
    "                # 손의 랜드마크만 저장\n",
    "                hand_image = np.zeros_like(image)\n",
    "                mp_drawing.draw_landmarks(\n",
    "                    hand_image, hand_landmarks, mp_hands.HAND_CONNECTIONS)\n",
    "                hand_landmarks_image = cv2.cvtColor(hand_image, cv2.COLOR_RGB2GRAY)  # 컬러 이미지 대신 그레이스케일 이미지로 변경\n",
    "                hand_landmarks_image = cv2.threshold(hand_landmarks_image, 1, 255, cv2.THRESH_BINARY)[1]\n",
    "                hand_landmarks_image = cv2.merge([hand_landmarks_image, hand_landmarks_image, hand_landmarks_image])\n",
    "                hand_landmarks_image = cv2.bitwise_and(image, hand_landmarks_image)\n",
    "\n",
    "                # cv2.imshow('Hand Landmarks', hand_landmarks_image)\n",
    "                hand_landmarks_image = cv2.cvtColor(hand_landmarks_image, cv2.COLOR_BGR2GRAY)\n",
    "                hand_landmarks_image = cv2.resize(hand_landmarks_image, (128, 128))\n",
    "                hand_landmarks_image = np.expand_dims(hand_landmarks_image, axis=0) # 1x128x128로 만들어주기\n",
    "                hand_landmarks_image = torch.Tensor(hand_landmarks_image)\n",
    "                pred = model(hand_landmarks_image.unsqueeze(0))\n",
    "                \n",
    "        # text = str(pred.argmax().item())  # 예측 결과를 문자열로 변환\n",
    "        font = cv2.FONT_HERSHEY_SIMPLEX\n",
    "        img_pil = Image.fromarray(image)\n",
    "        image = np.array(img_pil)\n",
    "        org = (100, 100)  # 문자열을 쓰고자 하는 위치\n",
    "        fontScale = 2\n",
    "        color = (0, 0, 255) \n",
    "        thickness = 3\n",
    "        a=str(folder_list[pred.argmax().item()])\n",
    "        if pred.argmax().item() is not None:\n",
    "            text = a      \n",
    "            text_list.append(text)\n",
    "        else:\n",
    "            text = \"No prediction\"\n",
    "            print(\"Err\")\n",
    "        text_list_1 = ', '.join(text_list_2)\n",
    "        if all(x == text_list[0] for x in text_list):\n",
    "            if len(text_list) >15:\n",
    "                text_list_2.append(text_list[0])\n",
    "                text_list=[]\n",
    "                \n",
    "        # 이미지에 문자열 표시\n",
    "        cv2.putText(image, text, org, font, fontScale, color, thickness)\n",
    "        cv2.putText(image, text_list_1, (100,200), font, fontScale, color, thickness)\n",
    "        cv2.imshow('MediaPipe Hands', image)\n",
    "        \n",
    "        \n",
    "        \n",
    "        key = cv2.waitKey(1)\n",
    "        if key == ord('s'):\n",
    "            num += 1\n",
    "            landmark_lists.append(landmark_list)\n",
    "            if len(landmark_lists) == 300:\n",
    "                a= pd.DataFrame(landmark_lists)\n",
    "                a.to_csv('landmarks_b',index=False)\n",
    "                cv2.destroyAllWindows()\n",
    "        if key == ord('q'):\n",
    "            cv2.destroyAllWindows()\n",
    "            break\n",
    "            \n",
    "\n",
    "cap.release()\n",
    "# "
   ]
  }
 ],
 "metadata": {
  "kernelspec": {
   "display_name": "Python 3",
   "language": "python",
   "name": "python3"
  },
  "language_info": {
   "codemirror_mode": {
    "name": "ipython",
    "version": 3
   },
   "file_extension": ".py",
   "mimetype": "text/x-python",
   "name": "python",
   "nbconvert_exporter": "python",
   "pygments_lexer": "ipython3",
   "version": "3.8.7"
  },
  "orig_nbformat": 4
 },
 "nbformat": 4,
 "nbformat_minor": 2
}
